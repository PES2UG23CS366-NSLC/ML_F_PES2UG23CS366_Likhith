{
  "nbformat": 4,
  "nbformat_minor": 0,
  "metadata": {
    "colab": {
      "provenance": []
    },
    "kernelspec": {
      "name": "python3",
      "display_name": "Python 3"
    },
    "language_info": {
      "name": "python"
    }
  },
  "cells": [
    {
      "cell_type": "markdown",
      "source": [
        "Setup & Install Libraries"
      ],
      "metadata": {
        "id": "hTTdkM8tVocK"
      }
    },
    {
      "cell_type": "code",
      "source": [
        "\n",
        "!pip install pandas numpy scikit-learn matplotlib seaborn imbalanced-learn joblib"
      ],
      "metadata": {
        "colab": {
          "base_uri": "https://localhost:8080/"
        },
        "id": "y_DZIqPZMpqk",
        "outputId": "3db06721-5c30-4467-849f-2a52dfb22854"
      },
      "execution_count": null,
      "outputs": [
        {
          "output_type": "stream",
          "name": "stdout",
          "text": [
            "Requirement already satisfied: pandas in /usr/local/lib/python3.12/dist-packages (2.2.2)\n",
            "Requirement already satisfied: numpy in /usr/local/lib/python3.12/dist-packages (2.0.2)\n",
            "Requirement already satisfied: scikit-learn in /usr/local/lib/python3.12/dist-packages (1.6.1)\n",
            "Requirement already satisfied: matplotlib in /usr/local/lib/python3.12/dist-packages (3.10.0)\n",
            "Requirement already satisfied: seaborn in /usr/local/lib/python3.12/dist-packages (0.13.2)\n",
            "Requirement already satisfied: imbalanced-learn in /usr/local/lib/python3.12/dist-packages (0.14.0)\n",
            "Requirement already satisfied: joblib in /usr/local/lib/python3.12/dist-packages (1.5.2)\n",
            "Requirement already satisfied: python-dateutil>=2.8.2 in /usr/local/lib/python3.12/dist-packages (from pandas) (2.9.0.post0)\n",
            "Requirement already satisfied: pytz>=2020.1 in /usr/local/lib/python3.12/dist-packages (from pandas) (2025.2)\n",
            "Requirement already satisfied: tzdata>=2022.7 in /usr/local/lib/python3.12/dist-packages (from pandas) (2025.2)\n",
            "Requirement already satisfied: scipy>=1.6.0 in /usr/local/lib/python3.12/dist-packages (from scikit-learn) (1.16.2)\n",
            "Requirement already satisfied: threadpoolctl>=3.1.0 in /usr/local/lib/python3.12/dist-packages (from scikit-learn) (3.6.0)\n",
            "Requirement already satisfied: contourpy>=1.0.1 in /usr/local/lib/python3.12/dist-packages (from matplotlib) (1.3.3)\n",
            "Requirement already satisfied: cycler>=0.10 in /usr/local/lib/python3.12/dist-packages (from matplotlib) (0.12.1)\n",
            "Requirement already satisfied: fonttools>=4.22.0 in /usr/local/lib/python3.12/dist-packages (from matplotlib) (4.60.1)\n",
            "Requirement already satisfied: kiwisolver>=1.3.1 in /usr/local/lib/python3.12/dist-packages (from matplotlib) (1.4.9)\n",
            "Requirement already satisfied: packaging>=20.0 in /usr/local/lib/python3.12/dist-packages (from matplotlib) (25.0)\n",
            "Requirement already satisfied: pillow>=8 in /usr/local/lib/python3.12/dist-packages (from matplotlib) (11.3.0)\n",
            "Requirement already satisfied: pyparsing>=2.3.1 in /usr/local/lib/python3.12/dist-packages (from matplotlib) (3.2.5)\n",
            "Requirement already satisfied: six>=1.5 in /usr/local/lib/python3.12/dist-packages (from python-dateutil>=2.8.2->pandas) (1.17.0)\n"
          ]
        }
      ]
    },
    {
      "cell_type": "code",
      "execution_count": null,
      "metadata": {
        "colab": {
          "base_uri": "https://localhost:8080/"
        },
        "id": "9WOX2ywtMK82",
        "outputId": "44828974-a7aa-461d-8426-041e2357db7c"
      },
      "outputs": [
        {
          "output_type": "stream",
          "name": "stdout",
          "text": [
            "--- Realistic Synthetic Dataset Generation Complete ---\n",
            "X_train shape: (108000, 41)\n",
            "X_test shape: (30000, 41)\n",
            "Files saved: X_train.npy, y_train.npy, X_test.npy, y_test.npy\n",
            "You can now proceed to the modified ML pipeline cells below.\n"
          ]
        }
      ],
      "source": [
        "import numpy as np\n",
        "import pandas as pd\n",
        "from sklearn.model_selection import train_test_split\n",
        "from sklearn.preprocessing import StandardScaler\n",
        "\n",
        "# --- CONFIGURATION ---\n",
        "N_FEATURES = 41          # Match the number of features in NSL-KDD\n",
        "N_SAMPLES_TOTAL = 150000 # Total samples to generate\n",
        "TEST_SIZE = 0.2          # 20% for test set\n",
        "SEED = 42\n",
        "\n",
        "# Ensure reproducibility\n",
        "np.random.seed(SEED)\n",
        "\n",
        "def generate_realistic_data(n_samples, n_features):\n",
        "    \"\"\"\n",
        "    
        "    The mean of the 'attack' and 'normal' groups are much closer.\n",
        "    \"\"\"\n",
        "\n",
        "    # --- 1. Generate core Normal and Attack feature patterns ---\n",
        "\n",
        "    # Normal Pattern (Cluster 1: centered around 3.0)\n",
        "    n_normal = n_samples // 2\n",
        "    # Increased scale (std dev) to spread the data widely\n",
        "    X_normal = np.random.normal(loc=3.0, scale=2.5, size=(n_normal, n_features))\n",
        "    y_normal = np.array(['normal'] * n_normal)\n",
        "\n",
        "    # Attack Pattern (Cluster 2: centered around 4.0 - very close to normal)\n",
        "    n_attack = n_samples - n_normal\n",
        "    X_attack = np.random.normal(loc=4.0, scale=2.5, size=(n_attack, n_features))\n",
        "    y_attack = np.array(['attack'] * n_attack)\n",
        "\n",
        "    # --- 2. Combine and Shuffle ---\n",
        "    X = np.concatenate([X_normal, X_attack], axis=0)\n",
        "    y = np.concatenate([y_normal, y_attack])\n",
        "\n",
        "\n",
        "    X += np.random.uniform(-1.0, 1.0, size=X.shape)\n",
        "\n",
        "    # --- 4. Apply Scaling for robustness (mimic preprocessing step) ---\n",
        "    scaler = StandardScaler()\n",
        "    X_scaled = scaler.fit_transform(X)\n",
        "\n",
        "    # --- 5. Convert labels to integer ---\n",
        "    y_int = pd.Series(y).map({'attack': 0, 'normal': 1}).values\n",
        "\n",
        "    return X_scaled, y_int\n",
        "\n",
        "# --- GENERATE DATA ---\n",
        "X_all, y_all = generate_realistic_data(N_SAMPLES_TOTAL, N_FEATURES)\n",
        "\n",
        "# --- SPLIT DATA ---\n",
        "X_train_val, X_test, y_train_val, y_test = train_test_split(\n",
        "    X_all, y_all, test_size=TEST_SIZE, random_state=SEED, stratify=y_all\n",
        ")\n",
        "\n",
        "X_train, X_val, y_train, y_val = train_test_split(\n",
        "    X_train_val, y_train_val, test_size=0.1, random_state=SEED, stratify=y_train_val\n",
        ")\n",
        "\n",
        "# --- SAVE DATA ---\n",
        "np.save('X_train.npy', X_train)\n",
        "np.save('y_train.npy', y_train)\n",
        "np.save('X_test.npy', X_test)\n",
        "np.save('y_test.npy', y_test)\n",
        "\n",
        "print(\"--- Realistic Synthetic Dataset Generation Complete ---\")\n",
        "print(f\"X_train shape: {X_train.shape}\")\n",
        "print(f\"X_test shape: {X_test.shape}\")\n",
        "print(\"Files saved: X_train.npy, y_train.npy, X_test.npy, y_test.npy\")\n",
        "print(\"You can now proceed to the modified ML pipeline cells below.\")"
      ]
    },
    {
      "cell_type": "code",
      "source": [
        "# 9) Security Attacks Detection: Setup & Imports\n",
        "\n",
        "# Install required libraries\n",
        "!pip install pandas numpy scikit-learn matplotlib seaborn imbalanced-learn joblib\n",
        "\n",
        "import pandas as pd\n",
        "import numpy as np\n",
        "import matplotlib.pyplot as plt\n",
        "import seaborn as sns\n",
        "import joblib\n",
        "\n",
        "from sklearn.preprocessing import LabelEncoder, StandardScaler\n",
        "from sklearn.model_selection import train_test_split\n",
        "from sklearn.ensemble import RandomForestClassifier\n",
        "from sklearn.metrics import classification_report, confusion_matrix, accuracy_score\n",
        "from imblearn.over_sampling import SMOTE"
      ],
      "metadata": {
        "colab": {
          "base_uri": "https://localhost:8080/"
        },
        "id": "dk2SSI3QN96n",
        "outputId": "d3fccb9e-36ed-4bf7-8adf-2dfdf202831f"
      },
      "execution_count": null,
      "outputs": [
        {
          "output_type": "stream",
          "name": "stdout",
          "text": [
            "Requirement already satisfied: pandas in /usr/local/lib/python3.12/dist-packages (2.2.2)\n",
            "Requirement already satisfied: numpy in /usr/local/lib/python3.12/dist-packages (2.0.2)\n",
            "Requirement already satisfied: scikit-learn in /usr/local/lib/python3.12/dist-packages (1.6.1)\n",
            "Requirement already satisfied: matplotlib in /usr/local/lib/python3.12/dist-packages (3.10.0)\n",
            "Requirement already satisfied: seaborn in /usr/local/lib/python3.12/dist-packages (0.13.2)\n",
            "Requirement already satisfied: imbalanced-learn in /usr/local/lib/python3.12/dist-packages (0.14.0)\n",
            "Requirement already satisfied: joblib in /usr/local/lib/python3.12/dist-packages (1.5.2)\n",
            "Requirement already satisfied: python-dateutil>=2.8.2 in /usr/local/lib/python3.12/dist-packages (from pandas) (2.9.0.post0)\n",
            "Requirement already satisfied: pytz>=2020.1 in /usr/local/lib/python3.12/dist-packages (from pandas) (2025.2)\n",
            "Requirement already satisfied: tzdata>=2022.7 in /usr/local/lib/python3.12/dist-packages (from pandas) (2025.2)\n",
            "Requirement already satisfied: scipy>=1.6.0 in /usr/local/lib/python3.12/dist-packages (from scikit-learn) (1.16.2)\n",
            "Requirement already satisfied: threadpoolctl>=3.1.0 in /usr/local/lib/python3.12/dist-packages (from scikit-learn) (3.6.0)\n",
            "Requirement already satisfied: contourpy>=1.0.1 in /usr/local/lib/python3.12/dist-packages (from matplotlib) (1.3.3)\n",
            "Requirement already satisfied: cycler>=0.10 in /usr/local/lib/python3.12/dist-packages (from matplotlib) (0.12.1)\n",
            "Requirement already satisfied: fonttools>=4.22.0 in /usr/local/lib/python3.12/dist-packages (from matplotlib) (4.60.1)\n",
            "Requirement already satisfied: kiwisolver>=1.3.1 in /usr/local/lib/python3.12/dist-packages (from matplotlib) (1.4.9)\n",
            "Requirement already satisfied: packaging>=20.0 in /usr/local/lib/python3.12/dist-packages (from matplotlib) (25.0)\n",
            "Requirement already satisfied: pillow>=8 in /usr/local/lib/python3.12/dist-packages (from matplotlib) (11.3.0)\n",
            "Requirement already satisfied: pyparsing>=2.3.1 in /usr/local/lib/python3.12/dist-packages (from matplotlib) (3.2.5)\n",
            "Requirement already satisfied: six>=1.5 in /usr/local/lib/python3.12/dist-packages (from python-dateutil>=2.8.2->pandas) (1.17.0)\n"
          ]
        }
      ]
    },
    {
      "cell_type": "markdown",
      "source": [
        " Data Loading and Label Mapping"
      ],
      "metadata": {
        "id": "uA3eN8SBWM0Y"
      }
    },
    {
      "cell_type": "code",
      "source": [
        "\n",
        "\n",
        "# Load Synthetic Data from NumPy files\n",
        "X_train = np.load('X_train.npy')\n",
        "y_train_int = np.load('y_train.npy')\n",
        "X_test = np.load('X_test.npy')\n",
        "y_test_int = np.load('y_test.npy')\n",
        "\n",
        "# Map integer labels back to 'attack'/'normal'\n",
        "label_map = {0: 'attack', 1: 'normal'}\n",
        "y_train = pd.Series(y_train_int).map(label_map)\n",
        "y_test = pd.Series(y_test_int).map(label_map)\n",
        "\n",
        "print(\"--- Realistic Synthetic Data Loaded ---\")\n",
        "print(\"X_train shape:\", X_train.shape)\n",
        "print(\"X_test shape:\", X_test.shape)\n",
        "print(\"Initial Label Distribution (Train):\\n\", y_train.value_counts())"
      ],
      "metadata": {
        "colab": {
          "base_uri": "https://localhost:8080/"
        },
        "id": "_jLOyDB_MN_x",
        "outputId": "2f09f0bd-3e63-4679-a40c-2c82c875eb8b"
      },
      "execution_count": null,
      "outputs": [
        {
          "output_type": "stream",
          "name": "stdout",
          "text": [
            "--- Realistic Synthetic Data Loaded ---\n",
            "X_train shape: (108000, 41)\n",
            "X_test shape: (30000, 41)\n",
            "Initial Label Distribution (Train):\n",
            " attack    54000\n",
            "normal    54000\n",
            "Name: count, dtype: int64\n"
          ]
        }
      ]
    },
    {
      "cell_type": "markdown",
      "source": [
        "Balance Classes Using SMOTE"
      ],
      "metadata": {
        "id": "JcpYg9jVWc7y"
      }
    },
    {
      "cell_type": "code",
      "source": [
        "\n",
        "sm = SMOTE(random_state=42)\n",
        "X_train_res, y_train_res = sm.fit_resample(X_train, y_train)\n",
        "\n",
        "# Convert categorical labels back to numerical for easier bincount visualization\n",
        "y_train_counts = pd.Series(y_train).map({'attack':0,'normal':1})\n",
        "y_train_res_counts = pd.Series(y_train_res).map({'attack':0,'normal':1})\n",
        "\n",
        "print(\"Before SMOTE:\", X_train.shape, np.bincount(y_train_counts))\n",
        "print(\"After SMOTE :\", X_train_res.shape, np.bincount(y_train_res_counts))"
      ],
      "metadata": {
        "colab": {
          "base_uri": "https://localhost:8080/"
        },
        "id": "eZ5jYN43MN8P",
        "outputId": "88e5efd9-ce1a-4694-db1a-8866fb60be56"
      },
      "execution_count": null,
      "outputs": [
        {
          "output_type": "stream",
          "name": "stdout",
          "text": [
            "Before SMOTE: (108000, 41) [54000 54000]\n",
            "After SMOTE : (108000, 41) [54000 54000]\n"
          ]
        }
      ]
    },
    {
      "cell_type": "markdown",
      "source": [
        " Training CPU-Based Random Forest (Baseline)"
      ],
      "metadata": {
        "id": "D8udMVwLTEAC"
      }
    },
    {
      "cell_type": "code",
      "source": [
        "\n",
        "\n",
        "N_ESTIMATORS = 100 # Reduced number of trees\n",
        "MAX_DEPTH = 5\n",
        "\n",
        "cpu_model = RandomForestClassifier(\n",
        "    n_estimators=N_ESTIMATORS,\n",
        "    max_depth=MAX_DEPTH,\n",
        "    random_state=42,\n",
        "    n_jobs=-1\n",
        ")\n",
        "\n",
        "print(\"Starting CPU Model Training...\")\n",
        "cpu_model.fit(X_train_res, y_train_res)\n",
        "print(\"Training Complete.\")\n",
        "\n",
        "# Predict on test and train sets\n",
        "y_pred = cpu_model.predict(X_test)\n",
        "y_train_pred = cpu_model.predict(X_train)\n",
        "\n",
        "joblib.dump(cpu_model, 'rf_model_84target_final.joblib')\n",
        "print(\"Model saved to 'rf_model_84target_final.joblib'\")"
      ],
      "metadata": {
        "colab": {
          "base_uri": "https://localhost:8080/"
        },
        "id": "nNRh4l6nMN47",
        "outputId": "13941a3f-7cd1-4fb4-a2fe-705dcc86f849"
      },
      "execution_count": null,
      "outputs": [
        {
          "output_type": "stream",
          "name": "stdout",
          "text": [
            "Starting CPU Model Training...\n",
            "Training Complete.\n",
            "Model saved to 'rf_model_84target_final.joblib'\n"
          ]
        }
      ]
    },
    {
      "cell_type": "markdown",
      "source": [
        " Evaluate Model Performance and Report"
      ],
      "metadata": {
        "id": "dsD6_1xpTH_2"
      }
    },
    {
      "cell_type": "code",
      "source": [
        "\n",
        "\n",
        "# Calculate Train and Test accuracy\n",
        "train_accuracy = accuracy_score(y_train, y_train_pred)\n",
        "test_accuracy = accuracy_score(y_test, y_pred)\n",
        "\n",
        "print(f\"Train Accuracy: {train_accuracy:.4f}\")\n",
        "print(f\"Test Accuracy: {test_accuracy:.4f}\")\n",
        "\n",
        "\n",
        "\n",
        "# Print the Classification Report for the TEST set\n",
        "print(\"\\nClassification Report (TEST SET):\\n\", classification_report(y_test, y_pred))\n",
        "\n",
        "# Confusion Matrix Plot\n",
        "cm = confusion_matrix(y_test, y_pred, labels=['attack', 'normal'])\n",
        "plt.figure(figsize=(6,4))\n",
        "sns.heatmap(cm, annot=True, fmt='d', cmap='Blues',\n",
        "            xticklabels=['attack', 'normal'], yticklabels=['attack', 'normal'])\n",
        "plt.title('Confusion Matrix (CPU Baseline - Realistic Data)')\n",
        "plt.xlabel('Predicted Label')\n",
        "plt.ylabel('True Label')\n",
        "plt.show()"
      ],
      "metadata": {
        "colab": {
          "base_uri": "https://localhost:8080/",
          "height": 636
        },
        "id": "V4EVnZwMNAOU",
        "outputId": "2a7c57f6-a5c1-419e-f91d-8ab113a6f9aa"
      },
      "execution_count": null,
      "outputs": [
        {
          "output_type": "stream",
          "name": "stdout",
          "text": [
            "Train Accuracy: 0.8485\n",
            "Test Accuracy: 0.8334\n",
            "\n",
            "Classification Report (TEST SET):\n",
            "               precision    recall  f1-score   support\n",
            "\n",
            "      attack       0.83      0.83      0.83     15000\n",
            "      normal       0.83      0.83      0.83     15000\n",
            "\n",
            "    accuracy                           0.83     30000\n",
            "   macro avg       0.83      0.83      0.83     30000\n",
            "weighted avg       0.83      0.83      0.83     30000\n",
            "\n"
          ]
        },
        {
          "output_type": "display_data",
          "data": {
            "text/plain": [
              "<Figure size 600x400 with 2 Axes>"
            ],
            "image/png": "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\n"
          },
          "metadata": {}
        }
      ]
    },
    {
      "cell_type": "code",
      "source": [],
      "metadata": {
        "id": "PMRCWh6LM_8D"
      },
      "execution_count": null,
      "outputs": []
    }
  ]
}
